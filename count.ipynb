{
 "cells": [
  {
   "cell_type": "code",
   "execution_count": 1,
   "outputs": [],
   "source": [
    "from collections import Counter"
   ],
   "metadata": {
    "collapsed": false,
    "ExecuteTime": {
     "end_time": "2023-05-31T15:30:01.590865Z",
     "start_time": "2023-05-31T15:30:01.588650Z"
    }
   }
  },
  {
   "cell_type": "code",
   "execution_count": 4,
   "outputs": [],
   "source": [
    "with open('/Users/seedoilz/Downloads/version1.5.txt', 'r' ,encoding='utf-16') as file:\n",
    "    # 读取文件内容\n",
    "    content = file.read()"
   ],
   "metadata": {
    "collapsed": false,
    "ExecuteTime": {
     "end_time": "2023-05-31T15:30:41.197003Z",
     "start_time": "2023-05-31T15:30:41.191439Z"
    }
   }
  },
  {
   "cell_type": "code",
   "execution_count": 5,
   "outputs": [],
   "source": [
    "words = content.split()"
   ],
   "metadata": {
    "collapsed": false,
    "ExecuteTime": {
     "end_time": "2023-05-31T15:30:42.739859Z",
     "start_time": "2023-05-31T15:30:42.733367Z"
    }
   }
  },
  {
   "cell_type": "code",
   "execution_count": 6,
   "outputs": [],
   "source": [
    "word_counts = Counter(words)"
   ],
   "metadata": {
    "collapsed": false,
    "ExecuteTime": {
     "end_time": "2023-05-31T15:30:43.291516Z",
     "start_time": "2023-05-31T15:30:43.289263Z"
    }
   }
  },
  {
   "cell_type": "code",
   "execution_count": 10,
   "outputs": [
    {
     "name": "stdout",
     "output_type": "stream",
     "text": [
      ",{name:'docs', value:2}\n",
      ",{name:'documentation', value:1}\n",
      ",{name:'Presto', value:2}\n",
      ",{name:'bug', value:9}\n",
      ",{name:'dashboard', value:7}\n",
      ",{name:'issue', value:11}\n",
      ",{name:'problem', value:4}\n",
      ",{name:'error', value:3}\n",
      ",{name:'filter', value:6}\n",
      ",{name:'postgreSQL', value:5}\n",
      ",{name:'metal', value:1}\n",
      ",{name:'migration', value:2}\n",
      ",{name:'update', value:2}\n",
      ",{name:'upgrade', value:2}\n",
      ",{name:'PR', value:6}\n",
      ",{name:'version', value:2}\n",
      ",{name:'review', value:1}\n",
      ",{name:'database', value:2}\n",
      ",{name:'dataset', value:4}\n",
      ",{name:'export', value:1}\n",
      ",{name:'item', value:1}\n",
      ",{name:'SQL', value:4}\n",
      ",{name:'Editor', value:1}\n",
      ",{name:'blank', value:1}\n",
      ",{name:'screen', value:1}\n",
      ",{name:'browser', value:1}\n",
      ",{name:'build', value:1}\n",
      ",{name:'datatype', value:1}\n",
      ",{name:'Lab', value:1}\n",
      ",{name:'upload', value:1}\n",
      ",{name:'file', value:1}\n",
      ",{name:'button', value:1}\n",
      ",{name:'storybook', value:1}\n"
     ]
    }
   ],
   "source": [
    "for word, count in word_counts.items():\n",
    "    print(',{name:\\'' + word + '\\', value:' + str(count) + '}')"
   ],
   "metadata": {
    "collapsed": false,
    "ExecuteTime": {
     "end_time": "2023-05-31T15:33:56.780318Z",
     "start_time": "2023-05-31T15:33:56.774703Z"
    }
   }
  },
  {
   "cell_type": "code",
   "execution_count": null,
   "outputs": [],
   "source": [],
   "metadata": {
    "collapsed": false
   }
  }
 ],
 "metadata": {
  "kernelspec": {
   "display_name": "Python 3",
   "language": "python",
   "name": "python3"
  },
  "language_info": {
   "codemirror_mode": {
    "name": "ipython",
    "version": 2
   },
   "file_extension": ".py",
   "mimetype": "text/x-python",
   "name": "python",
   "nbconvert_exporter": "python",
   "pygments_lexer": "ipython2",
   "version": "2.7.6"
  }
 },
 "nbformat": 4,
 "nbformat_minor": 0
}
