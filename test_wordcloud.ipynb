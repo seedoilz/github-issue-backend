{
 "cells": [
  {
   "cell_type": "code",
   "execution_count": 1,
   "metadata": {
    "collapsed": true,
    "ExecuteTime": {
     "end_time": "2023-05-31T15:00:16.336126Z",
     "start_time": "2023-05-31T15:00:15.851056Z"
    }
   },
   "outputs": [],
   "source": [
    "import pymysql\n",
    "from sklearn.feature_extraction.text import TfidfVectorizer\n",
    "import numpy as np\n",
    "import nltk"
   ]
  },
  {
   "cell_type": "code",
   "execution_count": 2,
   "outputs": [],
   "source": [
    "# db = pymysql.connect(host='localhost',\n",
    "#                      user='root',\n",
    "#                      password='Czy026110',\n",
    "#                      database='homework')\n",
    "db = pymysql.connect(host='124.70.198.102',\n",
    "                     user='root',\n",
    "                     password='HaRdEsTnju@123',\n",
    "                     database='sentistrength')\n",
    "cursor = db.cursor()"
   ],
   "metadata": {
    "collapsed": false,
    "ExecuteTime": {
     "end_time": "2023-05-31T15:00:32.083811Z",
     "start_time": "2023-05-31T15:00:32.003615Z"
    }
   }
  },
  {
   "cell_type": "code",
   "execution_count": 3,
   "outputs": [],
   "source": [
    "project = 'kafka'\n",
    "version = 'docs'\n",
    "select_content_sql = \"SELECT content FROM data WHERE version_number = \\'\" + version + \"\\'\" + \" and project_name = \\'\" + project + \"\\'\"\n",
    "cursor.execute(select_content_sql)\n",
    "content_list = cursor.fetchall()\n",
    "content_results = [row[0] for row in content_list]"
   ],
   "metadata": {
    "collapsed": false,
    "ExecuteTime": {
     "end_time": "2023-05-31T15:00:32.835287Z",
     "start_time": "2023-05-31T15:00:32.688413Z"
    }
   }
  },
  {
   "cell_type": "code",
   "execution_count": 4,
   "outputs": [],
   "source": [
    "combined_content = [' '.join(content_results)]\n",
    "vectorizer = TfidfVectorizer()\n",
    "tfidf = vectorizer.fit_transform(combined_content)\n",
    "feature_names = vectorizer.get_feature_names_out()"
   ],
   "metadata": {
    "collapsed": false,
    "ExecuteTime": {
     "end_time": "2023-05-31T15:00:33.567511Z",
     "start_time": "2023-05-31T15:00:33.553818Z"
    }
   }
  },
  {
   "cell_type": "code",
   "execution_count": 5,
   "outputs": [],
   "source": [
    "tfidf_array = tfidf.toarray()\n",
    "top_n_idx = np.argsort(tfidf_array[0])[-100:]\n",
    "top_n_values = [tfidf_array[0][i] for i in top_n_idx]\n",
    "top_n_words = [feature_names[i] for i in top_n_idx]"
   ],
   "metadata": {
    "collapsed": false,
    "ExecuteTime": {
     "end_time": "2023-05-31T15:00:34.270337Z",
     "start_time": "2023-05-31T15:00:34.264786Z"
    }
   }
  },
  {
   "cell_type": "code",
   "execution_count": 6,
   "outputs": [],
   "source": [
    "word_dict = dict(zip(top_n_words, top_n_values))"
   ],
   "metadata": {
    "collapsed": false,
    "ExecuteTime": {
     "end_time": "2023-05-31T15:00:34.786290Z",
     "start_time": "2023-05-31T15:00:34.782451Z"
    }
   }
  },
  {
   "cell_type": "code",
   "execution_count": 7,
   "outputs": [
    {
     "name": "stderr",
     "output_type": "stream",
     "text": [
      "[nltk_data] Downloading package averaged_perceptron_tagger to\n",
      "[nltk_data]     /Users/seedoilz/nltk_data...\n",
      "[nltk_data]   Package averaged_perceptron_tagger is already up-to-\n",
      "[nltk_data]       date!\n",
      "[nltk_data] Downloading package nps_chat to\n",
      "[nltk_data]     /Users/seedoilz/nltk_data...\n",
      "[nltk_data]   Package nps_chat is already up-to-date!\n"
     ]
    }
   ],
   "source": [
    "nltk.download('averaged_perceptron_tagger')\n",
    "nltk.download('nps_chat')\n",
    "nltk_data = nltk.corpus.nps_chat.tagged_words()\n",
    "nouns = [word.lower() for (word, tag) in nltk_data if tag.startswith('N')]\n",
    "res_list = []\n",
    "for key in list(word_dict.keys()):\n",
    "    if key not in nouns:\n",
    "        # 删除键及其对应的值\n",
    "        del word_dict[key]\n",
    "    else:\n",
    "        word_dict[key] = int(word_dict[key] * 100 // 1)\n",
    "        temp = {'name':key, 'value':word_dict[key]}\n",
    "        res_list.append(temp)"
   ],
   "metadata": {
    "collapsed": false,
    "ExecuteTime": {
     "end_time": "2023-05-31T15:00:39.088704Z",
     "start_time": "2023-05-31T15:00:35.317744Z"
    }
   }
  },
  {
   "cell_type": "code",
   "execution_count": 8,
   "outputs": [
    {
     "name": "stdout",
     "output_type": "stream",
     "text": [
      "[{'name': 'system', 'value': 2}, {'name': 'guide', 'value': 2}, {'name': 'title', 'value': 2}, {'name': 'call', 'value': 2}, {'name': 'up', 'value': 2}, {'name': 'comment', 'value': 2}, {'name': 'site', 'value': 4}, {'name': 'as', 'value': 4}, {'name': 'docs', 'value': 4}, {'name': 'not', 'value': 5}, {'name': 'change', 'value': 5}, {'name': 'that', 'value': 6}, {'name': 'com', 'value': 6}, {'name': 'thanks', 'value': 6}, {'name': 'notes', 'value': 7}, {'name': 'test', 'value': 9}, {'name': 'it', 'value': 10}, {'name': 'in', 'value': 11}, {'name': 'of', 'value': 11}, {'name': 'pr', 'value': 15}, {'name': 'for', 'value': 25}, {'name': 'and', 'value': 33}, {'name': 'the', 'value': 43}]\n"
     ]
    }
   ],
   "source": [
    "print(res_list)"
   ],
   "metadata": {
    "collapsed": false,
    "ExecuteTime": {
     "end_time": "2023-05-31T15:00:44.112511Z",
     "start_time": "2023-05-31T15:00:44.104738Z"
    }
   }
  },
  {
   "cell_type": "code",
   "execution_count": null,
   "outputs": [],
   "source": [],
   "metadata": {
    "collapsed": false
   }
  }
 ],
 "metadata": {
  "kernelspec": {
   "display_name": "Python 3",
   "language": "python",
   "name": "python3"
  },
  "language_info": {
   "codemirror_mode": {
    "name": "ipython",
    "version": 2
   },
   "file_extension": ".py",
   "mimetype": "text/x-python",
   "name": "python",
   "nbconvert_exporter": "python",
   "pygments_lexer": "ipython2",
   "version": "2.7.6"
  }
 },
 "nbformat": 4,
 "nbformat_minor": 0
}
